{
 "cells": [
  {
   "cell_type": "code",
   "execution_count": 13,
   "id": "9ee78ede-6a6a-4883-a2d2-f7c2d523d13f",
   "metadata": {
    "tags": []
   },
   "outputs": [
    {
     "name": "stdout",
     "output_type": "stream",
     "text": [
      "Quadrant \t\t Number \t Percent \t Avg Crater Area (km²) \t Largest Crater \t Smallest Crater\n",
      "Q1              \t 88256      \t 22.9628    \t 734912          \t 408.23          \t 1.00           \n",
      "Q2              \t 122141     \t 31.7792    \t 1536666         \t 1164.22         \t 1.00           \n",
      "Q3              \t 111306     \t 28.9601    \t 1160144         \t 1096.65         \t 1.00           \n",
      "Q4              \t 62630      \t 16.2953    \t 430405          \t 376.35          \t 1.00           \n",
      "Equator         \t 7          \t 0.0018     \t 33              \t 5.33            \t 1.06           \n",
      "Prime Meridian  \t 3          \t 0.0008     \t 9               \t 2.85            \t 1.48           \n"
     ]
    }
   ],
   "source": [
    "# Import the pandas library with the alias pd\n",
    "import pandas as pd\n",
    "# Import the numpy library with the alias np\n",
    "import numpy as np\n",
    "\n",
    "\n",
    "# Read the CSV file into a DataFrame, setting standard options like delimiter and memory management\n",
    "df_craters_csv = pd.read_csv(\"D:/Data Analyst/Teil2_Visualisieren/marscraters.csv\", sep=\",\", low_memory=False)\n",
    "\n",
    "# Define variables for the column names for latitude, longitude, and diameter\n",
    "latitude = \"LATITUDE_CIRCLE_IMAGE\"\n",
    "longitude = \"LONGITUDE_CIRCLE_IMAGE\"\n",
    "diam = \"DIAM_CIRCLE_IMAGE\"\n",
    "\n",
    "# Create a new DataFrame that only contains the required columns\n",
    "df_craters = df_craters_csv[[latitude, longitude, diam]]\n",
    "\n",
    "# Define a dictionary to set conditions for each quadrant and special lines that determine whether a crater belongs to it\n",
    "quadrants = {\"Q1\": (df_craters[longitude] > 0) & (df_craters[latitude] > 0),\n",
    "             \"Q2\": (df_craters[longitude] > 0) & (df_craters[latitude] < 0),\n",
    "             \"Q3\": (df_craters[longitude] < 0) & (df_craters[latitude] < 0),\n",
    "             \"Q4\": (df_craters[longitude] < 0) & (df_craters[latitude] > 0),\n",
    "             \"Equator\": (df_craters[longitude] != 0) & (df_craters[latitude] == 0),\n",
    "             \"Prime Meridian\": (df_craters[longitude] == 0) & (df_craters[latitude] != 0)\n",
    "            }\n",
    "\n",
    "# Print the headings for the statistics output\n",
    "print(\"Quadrant \\t\\t Number \\t Percent \\t Avg Crater Area (km²) \\t Largest Crater \\t Smallest Crater\")\n",
    "\n",
    "# Loop through all quadrants to calculate and print statistics\n",
    "for quadrant, value in quadrants.items():\n",
    "    # Calculate the percentage of craters in this quadrant relative to the total number\n",
    "    percentage = value.sum() / len(df_craters) * 100\n",
    "    # Calculate the sum of diameters of all craters in this quadrant\n",
    "    diam_sum = df_craters.loc[quadrants[quadrant], diam].sum() \n",
    "    # Calculate the total crater area in this quadrant (assumption: craters are circular)\n",
    "    area_sum = (diam_sum/2)**2*np.pi\n",
    "    # Calculate the average crater area in this quadrant\n",
    "    area_average = area_sum / value.sum()\n",
    "    # Determine the largest diameter in this quadrant\n",
    "    biggest_diam = df_craters.loc[quadrants[quadrant], diam]    \n",
    "    max_value = biggest_diam.max()\n",
    "    # Determine the smallest diameter in this quadrant\n",
    "    smallest_diam = df_craters.loc[quadrants[quadrant], diam]    \n",
    "    min_value = smallest_diam.min()\n",
    "    # Print the statistics for this quadrant\n",
    "    print(f\"{quadrant:<15} \\t {value.sum():<10} \\t {percentage:<10.4f} \\t {area_average:<15.0f} \\t {max_value:<15.2f} \\t {min_value:<15.2f}\")\n"
   ]
  },
  {
   "cell_type": "code",
   "execution_count": null,
   "id": "5ccad219-fd6a-4f99-9b2c-2f6988e75da4",
   "metadata": {},
   "outputs": [],
   "source": []
  }
 ],
 "metadata": {
  "kernelspec": {
   "display_name": "Python 3 (ipykernel)",
   "language": "python",
   "name": "python3"
  },
  "language_info": {
   "codemirror_mode": {
    "name": "ipython",
    "version": 3
   },
   "file_extension": ".py",
   "mimetype": "text/x-python",
   "name": "python",
   "nbconvert_exporter": "python",
   "pygments_lexer": "ipython3",
   "version": "3.11.5"
  }
 },
 "nbformat": 4,
 "nbformat_minor": 5
}
